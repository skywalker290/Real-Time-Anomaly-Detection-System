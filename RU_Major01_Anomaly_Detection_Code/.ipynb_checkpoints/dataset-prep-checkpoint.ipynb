{
 "cells": [
  {
   "cell_type": "code",
   "execution_count": 2,
   "id": "cd643857-7f62-4836-9b9b-75e30ad54356",
   "metadata": {},
   "outputs": [
    {
     "name": "stdout",
     "output_type": "stream",
     "text": [
      "CSV file saved at: d2_anomaly_muticlass_dataset.csv\n"
     ]
    }
   ],
   "source": [
    "import os\n",
    "import csv\n",
    "\n",
    "# Path to the dataset\n",
    "dataset_base = 'd2/Anomaly-Multiclass-Dataset'\n",
    "\n",
    "# Output CSV file\n",
    "output_csv = 'd2_anomaly_muticlass_dataset.csv'\n",
    "\n",
    "# Splits to process\n",
    "splits = ['train', 'test', 'val']\n",
    "\n",
    "# Initialize list to hold video paths and labels\n",
    "data = []\n",
    "\n",
    "# Traverse the dataset\n",
    "for split in splits:\n",
    "    split_path = os.path.join(dataset_base, split)\n",
    "    for category in os.listdir(split_path):\n",
    "        category_path = os.path.join(split_path, category)\n",
    "        if os.path.isdir(category_path):\n",
    "            for video_file in os.listdir(category_path):\n",
    "                if video_file.endswith('.mp4'):  # Ensure only video files are processed\n",
    "                    video_path = os.path.join(category_path, video_file)\n",
    "                    label = category  # The folder name is the label\n",
    "                    data.append([video_path, label])\n",
    "\n",
    "# Write to CSV\n",
    "with open(output_csv, mode='w', newline='') as csv_file:\n",
    "    writer = csv.writer(csv_file)\n",
    "    writer.writerow(['Path to Video', 'Label'])  # Header row\n",
    "    writer.writerows(data)\n",
    "\n",
    "print(f\"CSV file saved at: {output_csv}\")\n"
   ]
  },
  {
   "cell_type": "code",
   "execution_count": 3,
   "id": "bb4804e3-be65-4b04-b56a-c94ffc696caf",
   "metadata": {},
   "outputs": [],
   "source": [
    "d1_models = [\"skywalker290/videomae-vivit-d1\",\"skywalker290/videomae-videomae-d1\",\"skywalker290/videomae-timesformer-d1\"]"
   ]
  },
  {
   "cell_type": "code",
   "execution_count": 7,
   "id": "4dcb0a2c-4ad0-4d06-af33-aafb82c7bef1",
   "metadata": {},
   "outputs": [
    {
     "data": {
      "application/vnd.jupyter.widget-view+json": {
       "model_id": "13b34b53634b468aaad8a0020a2fd619",
       "version_major": 2,
       "version_minor": 0
      },
      "text/plain": [
       "config.json:   0%|          | 0.00/812 [00:00<?, ?B/s]"
      ]
     },
     "metadata": {},
     "output_type": "display_data"
    },
    {
     "data": {
      "application/vnd.jupyter.widget-view+json": {
       "model_id": "fbb135b9b767483582af77d8093c7ee6",
       "version_major": 2,
       "version_minor": 0
      },
      "text/plain": [
       "model.safetensors:   0%|          | 0.00/485M [00:00<?, ?B/s]"
      ]
     },
     "metadata": {},
     "output_type": "display_data"
    },
    {
     "data": {
      "application/vnd.jupyter.widget-view+json": {
       "model_id": "8af9f84a43234382a9955b76b78541ab",
       "version_major": 2,
       "version_minor": 0
      },
      "text/plain": [
       "preprocessor_config.json:   0%|          | 0.00/412 [00:00<?, ?B/s]"
      ]
     },
     "metadata": {},
     "output_type": "display_data"
    },
    {
     "name": "stdout",
     "output_type": "stream",
     "text": [
      "[{'score': 0.9994586110115051, 'label': 'Anomaly'}, {'score': 0.000541362096555531, 'label': 'Normal'}]\n"
     ]
    }
   ],
   "source": [
    "from transformers import pipeline, AutoProcessor, VivitImageProcessor,VideoMAEImageProcessor\n",
    "d1_models = [\"skywalker290/videomae-vivit-d1\",\"skywalker290/videomae-videomae-d1\",\"skywalker290/videomae-timesformer-d1\"]\n",
    "repo = d1_models[2]\n",
    "\n",
    "video_cls = pipeline(\n",
    "    task=\"video-classification\",\n",
    "    model=repo,\n",
    "    device=0,\n",
    "    image_processor=repo\n",
    ")\n",
    "result = video_cls(\"d1/Anomaly-detection-Dataset/test/Anomaly/Abuse008_x264.mp4\")\n",
    "print(result)"
   ]
  },
  {
   "cell_type": "code",
   "execution_count": 2,
   "id": "2a82e08a-574c-4751-9b74-98dddeeb0373",
   "metadata": {},
   "outputs": [
    {
     "ename": "KeyboardInterrupt",
     "evalue": "",
     "output_type": "error",
     "traceback": [
      "\u001b[0;31m---------------------------------------------------------------------------\u001b[0m",
      "\u001b[0;31mKeyboardInterrupt\u001b[0m                         Traceback (most recent call last)",
      "Cell \u001b[0;32mIn[2], line 40\u001b[0m\n\u001b[1;32m     38\u001b[0m \u001b[38;5;28;01mfor\u001b[39;00m video_cls \u001b[38;5;129;01min\u001b[39;00m pipelines:\n\u001b[1;32m     39\u001b[0m     \u001b[38;5;28;01mtry\u001b[39;00m:\n\u001b[0;32m---> 40\u001b[0m         result \u001b[38;5;241m=\u001b[39m \u001b[43mvideo_cls\u001b[49m\u001b[43m(\u001b[49m\u001b[43mvideo_path\u001b[49m\u001b[43m)\u001b[49m\n\u001b[1;32m     42\u001b[0m         \u001b[38;5;66;03m# Extract scores for both Anomaly and Normal labels\u001b[39;00m\n\u001b[1;32m     43\u001b[0m         anomaly_score \u001b[38;5;241m=\u001b[39m \u001b[38;5;28mnext\u001b[39m((item[\u001b[38;5;124m'\u001b[39m\u001b[38;5;124mscore\u001b[39m\u001b[38;5;124m'\u001b[39m] \u001b[38;5;28;01mfor\u001b[39;00m item \u001b[38;5;129;01min\u001b[39;00m result \u001b[38;5;28;01mif\u001b[39;00m item[\u001b[38;5;124m'\u001b[39m\u001b[38;5;124mlabel\u001b[39m\u001b[38;5;124m'\u001b[39m] \u001b[38;5;241m==\u001b[39m \u001b[38;5;124m'\u001b[39m\u001b[38;5;124mAnomaly\u001b[39m\u001b[38;5;124m'\u001b[39m), \u001b[38;5;241m0.0\u001b[39m)\n",
      "File \u001b[0;32m~/.pyenv/versions/3.10.12/envs/timesformers/lib/python3.10/site-packages/transformers/pipelines/video_classification.py:127\u001b[0m, in \u001b[0;36mVideoClassificationPipeline.__call__\u001b[0;34m(self, inputs, **kwargs)\u001b[0m\n\u001b[1;32m    125\u001b[0m \u001b[38;5;28;01mif\u001b[39;00m inputs \u001b[38;5;129;01mis\u001b[39;00m \u001b[38;5;28;01mNone\u001b[39;00m:\n\u001b[1;32m    126\u001b[0m     \u001b[38;5;28;01mraise\u001b[39;00m \u001b[38;5;167;01mValueError\u001b[39;00m(\u001b[38;5;124m\"\u001b[39m\u001b[38;5;124mCannot call the video-classification pipeline without an inputs argument!\u001b[39m\u001b[38;5;124m\"\u001b[39m)\n\u001b[0;32m--> 127\u001b[0m \u001b[38;5;28;01mreturn\u001b[39;00m \u001b[38;5;28;43msuper\u001b[39;49m\u001b[43m(\u001b[49m\u001b[43m)\u001b[49m\u001b[38;5;241;43m.\u001b[39;49m\u001b[38;5;21;43m__call__\u001b[39;49m\u001b[43m(\u001b[49m\u001b[43minputs\u001b[49m\u001b[43m,\u001b[49m\u001b[43m \u001b[49m\u001b[38;5;241;43m*\u001b[39;49m\u001b[38;5;241;43m*\u001b[39;49m\u001b[43mkwargs\u001b[49m\u001b[43m)\u001b[49m\n",
      "File \u001b[0;32m~/.pyenv/versions/3.10.12/envs/timesformers/lib/python3.10/site-packages/transformers/pipelines/base.py:1302\u001b[0m, in \u001b[0;36mPipeline.__call__\u001b[0;34m(self, inputs, num_workers, batch_size, *args, **kwargs)\u001b[0m\n\u001b[1;32m   1294\u001b[0m     \u001b[38;5;28;01mreturn\u001b[39;00m \u001b[38;5;28mnext\u001b[39m(\n\u001b[1;32m   1295\u001b[0m         \u001b[38;5;28miter\u001b[39m(\n\u001b[1;32m   1296\u001b[0m             \u001b[38;5;28mself\u001b[39m\u001b[38;5;241m.\u001b[39mget_iterator(\n\u001b[0;32m   (...)\u001b[0m\n\u001b[1;32m   1299\u001b[0m         )\n\u001b[1;32m   1300\u001b[0m     )\n\u001b[1;32m   1301\u001b[0m \u001b[38;5;28;01melse\u001b[39;00m:\n\u001b[0;32m-> 1302\u001b[0m     \u001b[38;5;28;01mreturn\u001b[39;00m \u001b[38;5;28;43mself\u001b[39;49m\u001b[38;5;241;43m.\u001b[39;49m\u001b[43mrun_single\u001b[49m\u001b[43m(\u001b[49m\u001b[43minputs\u001b[49m\u001b[43m,\u001b[49m\u001b[43m \u001b[49m\u001b[43mpreprocess_params\u001b[49m\u001b[43m,\u001b[49m\u001b[43m \u001b[49m\u001b[43mforward_params\u001b[49m\u001b[43m,\u001b[49m\u001b[43m \u001b[49m\u001b[43mpostprocess_params\u001b[49m\u001b[43m)\u001b[49m\n",
      "File \u001b[0;32m~/.pyenv/versions/3.10.12/envs/timesformers/lib/python3.10/site-packages/transformers/pipelines/base.py:1308\u001b[0m, in \u001b[0;36mPipeline.run_single\u001b[0;34m(self, inputs, preprocess_params, forward_params, postprocess_params)\u001b[0m\n\u001b[1;32m   1307\u001b[0m \u001b[38;5;28;01mdef\u001b[39;00m \u001b[38;5;21mrun_single\u001b[39m(\u001b[38;5;28mself\u001b[39m, inputs, preprocess_params, forward_params, postprocess_params):\n\u001b[0;32m-> 1308\u001b[0m     model_inputs \u001b[38;5;241m=\u001b[39m \u001b[38;5;28;43mself\u001b[39;49m\u001b[38;5;241;43m.\u001b[39;49m\u001b[43mpreprocess\u001b[49m\u001b[43m(\u001b[49m\u001b[43minputs\u001b[49m\u001b[43m,\u001b[49m\u001b[43m \u001b[49m\u001b[38;5;241;43m*\u001b[39;49m\u001b[38;5;241;43m*\u001b[39;49m\u001b[43mpreprocess_params\u001b[49m\u001b[43m)\u001b[49m\n\u001b[1;32m   1309\u001b[0m     model_outputs \u001b[38;5;241m=\u001b[39m \u001b[38;5;28mself\u001b[39m\u001b[38;5;241m.\u001b[39mforward(model_inputs, \u001b[38;5;241m*\u001b[39m\u001b[38;5;241m*\u001b[39mforward_params)\n\u001b[1;32m   1310\u001b[0m     outputs \u001b[38;5;241m=\u001b[39m \u001b[38;5;28mself\u001b[39m\u001b[38;5;241m.\u001b[39mpostprocess(model_outputs, \u001b[38;5;241m*\u001b[39m\u001b[38;5;241m*\u001b[39mpostprocess_params)\n",
      "File \u001b[0;32m~/.pyenv/versions/3.10.12/envs/timesformers/lib/python3.10/site-packages/transformers/pipelines/video_classification.py:142\u001b[0m, in \u001b[0;36mVideoClassificationPipeline.preprocess\u001b[0;34m(self, video, num_frames, frame_sampling_rate)\u001b[0m\n\u001b[1;32m    139\u001b[0m end_idx \u001b[38;5;241m=\u001b[39m num_frames \u001b[38;5;241m*\u001b[39m frame_sampling_rate \u001b[38;5;241m-\u001b[39m \u001b[38;5;241m1\u001b[39m\n\u001b[1;32m    140\u001b[0m indices \u001b[38;5;241m=\u001b[39m np\u001b[38;5;241m.\u001b[39mlinspace(start_idx, end_idx, num\u001b[38;5;241m=\u001b[39mnum_frames, dtype\u001b[38;5;241m=\u001b[39mnp\u001b[38;5;241m.\u001b[39mint64)\n\u001b[0;32m--> 142\u001b[0m video \u001b[38;5;241m=\u001b[39m \u001b[43mread_video_pyav\u001b[49m\u001b[43m(\u001b[49m\u001b[43mcontainer\u001b[49m\u001b[43m,\u001b[49m\u001b[43m \u001b[49m\u001b[43mindices\u001b[49m\u001b[43m)\u001b[49m\n\u001b[1;32m    143\u001b[0m video \u001b[38;5;241m=\u001b[39m \u001b[38;5;28mlist\u001b[39m(video)\n\u001b[1;32m    145\u001b[0m model_inputs \u001b[38;5;241m=\u001b[39m \u001b[38;5;28mself\u001b[39m\u001b[38;5;241m.\u001b[39mimage_processor(video, return_tensors\u001b[38;5;241m=\u001b[39m\u001b[38;5;28mself\u001b[39m\u001b[38;5;241m.\u001b[39mframework)\n",
      "File \u001b[0;32m~/.pyenv/versions/3.10.12/envs/timesformers/lib/python3.10/site-packages/transformers/pipelines/video_classification.py:180\u001b[0m, in \u001b[0;36mread_video_pyav\u001b[0;34m(container, indices)\u001b[0m\n\u001b[1;32m    178\u001b[0m end_index \u001b[38;5;241m=\u001b[39m indices[\u001b[38;5;241m-\u001b[39m\u001b[38;5;241m1\u001b[39m]\n\u001b[1;32m    179\u001b[0m \u001b[38;5;28;01mfor\u001b[39;00m i, frame \u001b[38;5;129;01min\u001b[39;00m \u001b[38;5;28menumerate\u001b[39m(container\u001b[38;5;241m.\u001b[39mdecode(video\u001b[38;5;241m=\u001b[39m\u001b[38;5;241m0\u001b[39m)):\n\u001b[0;32m--> 180\u001b[0m     \u001b[38;5;28;01mif\u001b[39;00m i \u001b[38;5;241m>\u001b[39m end_index:\n\u001b[1;32m    181\u001b[0m         \u001b[38;5;28;01mbreak\u001b[39;00m\n\u001b[1;32m    182\u001b[0m     \u001b[38;5;28;01mif\u001b[39;00m i \u001b[38;5;241m>\u001b[39m\u001b[38;5;241m=\u001b[39m start_index \u001b[38;5;129;01mand\u001b[39;00m i \u001b[38;5;129;01min\u001b[39;00m indices:\n",
      "\u001b[0;31mKeyboardInterrupt\u001b[0m: "
     ]
    }
   ],
   "source": [
    "import csv\n",
    "from transformers import pipeline\n",
    "\n",
    "# Define models\n",
    "d1_models = [\n",
    "    \"skywalker290/videomae-vivit-d1\",\n",
    "    \"skywalker290/videomae-videomae-d1\",\n",
    "    \"skywalker290/videomae-timesformer-d1\"\n",
    "]\n",
    "\n",
    "# Load pipelines for each model\n",
    "pipelines = [\n",
    "    pipeline(task=\"video-classification\", model=model, device=0, image_processor=model)\n",
    "    for model in d1_models\n",
    "]\n",
    "\n",
    "# Input and output CSV file paths\n",
    "input_csv = \"d1_anomaly_detection_dataset.csv\"  # Input CSV with columns: path_to_video, label\n",
    "output_csv = \"d1_ensemble_dataset.csv\"  # Output CSV\n",
    "\n",
    "# Process videos and write results to output CSV\n",
    "with open(input_csv, 'r') as infile, open(output_csv, 'w', newline='') as outfile:\n",
    "    reader = csv.DictReader(infile)\n",
    "    fieldnames = ['path_to_video', 'vivit_anomaly', 'videomae_anomaly', 'timesformer_anomaly', \n",
    "                  'vivit_normal', 'videomae_normal', 'timesformer_normal', 'label']\n",
    "    writer = csv.DictWriter(outfile, fieldnames=fieldnames)\n",
    "    \n",
    "    writer.writeheader()\n",
    "    \n",
    "    for row in reader:\n",
    "        video_path = row['Path to Video']\n",
    "        label = row['Label']\n",
    "        \n",
    "        # Generate scores for both Anomaly and Normal labels from each model\n",
    "        anomaly_scores = []\n",
    "        normal_scores = []\n",
    "        \n",
    "        for video_cls in pipelines:\n",
    "            try:\n",
    "                result = video_cls(video_path)\n",
    "                \n",
    "                # Extract scores for both Anomaly and Normal labels\n",
    "                anomaly_score = next((item['score'] for item in result if item['label'] == 'Anomaly'), 0.0)\n",
    "                normal_score = next((item['score'] for item in result if item['label'] == 'Normal'), 0.0)\n",
    "                \n",
    "                anomaly_scores.append(anomaly_score)\n",
    "                normal_scores.append(normal_score)\n",
    "            except Exception as e:\n",
    "                anomaly_scores.append(0.0)  # Default to 0 if error occurs\n",
    "                normal_scores.append(0.0)   # Default to 0 if error occurs\n",
    "        \n",
    "        # Write results to the new CSV\n",
    "        writer.writerow({\n",
    "            'path_to_video': video_path,\n",
    "            'vivit_anomaly': anomaly_scores[0],\n",
    "            'videomae_anomaly': anomaly_scores[1],\n",
    "            'timesformer_anomaly': anomaly_scores[2],\n",
    "            'vivit_normal': normal_scores[0],\n",
    "            'videomae_normal': normal_scores[1],\n",
    "            'timesformer_normal': normal_scores[2],\n",
    "            'label': label\n",
    "        })\n",
    "\n",
    "print(f\"Processing complete. Results saved to {output_csv}\")"
   ]
  },
  {
   "cell_type": "code",
   "execution_count": null,
   "id": "863fce12-f3c2-436e-a079-0b99f0bb19e1",
   "metadata": {},
   "outputs": [],
   "source": []
  }
 ],
 "metadata": {
  "kernelspec": {
   "display_name": "Python 3 (ipykernel)",
   "language": "python",
   "name": "python3"
  },
  "language_info": {
   "codemirror_mode": {
    "name": "ipython",
    "version": 3
   },
   "file_extension": ".py",
   "mimetype": "text/x-python",
   "name": "python",
   "nbconvert_exporter": "python",
   "pygments_lexer": "ipython3",
   "version": "3.10.12"
  }
 },
 "nbformat": 4,
 "nbformat_minor": 5
}
